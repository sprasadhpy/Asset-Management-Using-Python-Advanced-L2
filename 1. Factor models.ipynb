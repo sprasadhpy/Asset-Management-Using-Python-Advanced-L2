{
 "cells": [
  {
   "cell_type": "markdown",
   "metadata": {},
   "source": [
    "A **factor** is a variable that influences the **returns of assets**. It represents a **commonality** \n",
    "in the returns, i.e., something outside the individual asset, and normally, **an exposure to some factor risk** over the long run **yields a reward** (the risk premium).\n",
    "\n",
    "In general, a **(multi)-factor model** with $K$ factors states that the \n",
    "**excessive return** of an asset $i$ satisfies:\n",
    "$$\n",
    "r_i^e := r_{i,t} - r_{f,t}  = \\alpha_i + \\beta_1^i f^{e}_1 +\\dots +\\beta_K^i f^{e}_K + \\varepsilon_{i,t}, \n",
    "$$\n",
    "where $\\{\\beta_j^i\\}_{j=1,\\dots,K}$ and $\\alpha_i$ are some real coefficients to be estimated, $\\varepsilon_{i,t}$ are idiosyncratic (uncorrelated) errors, and $\\{f_j\\}_{i=j,\\dots,K}$ are the **factor premia** which are the **returns that we get in exchange for exposing ourselves to the factors** (in particular $f^{e}_j$ denotes the excess return of the factor). \n",
    "\n",
    "We will call the betas coefficients as the **factor loadings**."
   ]
  },
  {
   "cell_type": "markdown",
   "metadata": {},
   "source": [
    "### Single Factor model\n",
    "We recall that the simplest factor model is the Sharpe's single-factor **Market Model** in which the only factor used is the excess return of the market $f^e_t = r_{m,t} - r_{f,t}$:\n",
    "$$\n",
    "r_i^e := r_{i,t} - r_{f,t} = \\alpha_i + \\beta^i (r_{m,t} - r_{f,t}) + \\varepsilon_{i,t}.\n",
    "$$\n",
    "In particular we recall that the **Capital Asset Pricing Model (CAPM)** is the model that predicts $\\alpha_i=0$:\n",
    "$$\n",
    "r_i^e := r_{i,t} - r_{f,t} = \\beta^i (r_{m,t} - r_{f,t}) + \\varepsilon_{i,t},\n",
    "$$\n",
    "and in which:\n",
    "$$\n",
    "\\beta_i := \\frac{\\text{Cov}(r_i,r_m)}{\\text{Var}(r_m)},\n",
    "$$\n",
    "denotes the sensitivity of the asset with respect to the market.\n",
    "\n",
    "\n",
    "In the risk analysis, we notice that when using the CAPM, we can obtain an expression for the variance of the return of asset $i$ in terms of the variance of the market. That is, if we take tha variance on both sides of the equation above:\n",
    "$$\n",
    "(\\sigma_i^e)^2 = \\beta_i^2 (\\sigma_m^e)^2 + \\sigma^2_{\\varepsilon_i},\n",
    "$$\n",
    "and this allows us to classify the risk between **systematic risk $(\\sigma_m^e)$** \n",
    "on the one hand and **specific risks $\\sigma_{\\varepsilon_i}$** on the other hand.\n",
    "\n",
    "Furthermore, we can alos define the $R^2$ metrics defined as:\n",
    "$$\n",
    "R^2 := \\frac{ \\beta_i^2 (\\sigma_m^e)^2 }{(\\sigma_i^e)^2}, \n",
    "$$\n",
    "which is **the part of the variance explained by the factor**."
   ]
  },
  {
   "cell_type": "markdown",
   "metadata": {},
   "source": [
    "### Other Factors\n",
    "In addition to **market**, **value** and **size** factors, the **Momentum Factor** has been also very often used as a meaningful, explanatory variable to try and explain differences in expected return. \n",
    "\n",
    "The **Momentum factor** is defined as the **difference in performance between the past winners and the past losers**. In particular, the momentum can be seen as an attribute of the asset. \n",
    "We can think about the asset, on a given sample period, as being a past winner or a past loser and this would tend to explain some persistence in performance because past winners tend to outperform past losers. \n",
    "\n",
    "Literature has also looked at other factors, including the **Low Volatility factor**, distinguishing the low volatility assets from the high volatility assets. In this case, we found that **low volatility assets tend to outperform high volatility assets** even though they are less risky. \n",
    "\n",
    "There is also a **Liquidity Factor**. Less liquid assets tend to have a higher risk premia associated to them compared to higher liquidity stocks, as expected. \n",
    "\n",
    "Another last factor can be the **Quality Factor**."
   ]
  },
  {
   "cell_type": "markdown",
   "metadata": {},
   "source": [
    "### Assumptions on factors \n",
    "\n",
    "Let us consider tha case of a simple two-factors model ($K=2$): \n",
    "$$\n",
    "r_i^e := r_i - r_f =  \\beta_1^i f_1 + \\beta_2^i f_2 + \\varepsilon_i\n",
    "\\quad \\forall\\;i=1,\\dots,N.\n",
    "$$\n",
    "\n",
    "Now, the variance of the asset's excess return is given by, for all $i$: \n",
    "$$\n",
    "c_{ii}^2 = (\\sigma_i^e)^2 := \\text{Var}\\left(\\beta_1^i f_1 + \\beta_2^i f_2 + \\varepsilon_i\\right) \n",
    "= (\\beta_1^i)^2 \\sigma_{f_1}^2 + (\\beta_2^i)^2 \\sigma_{f_2}^2 + 2\\beta_1^i \\beta_2^i\\text{Cov}(f_1,f_2) + \\sigma_{\\varepsilon_i}^2, \n",
    "$$\n",
    "where we have assumed that the **covariances between factors and errors are zero**. \n",
    "\n",
    "The covariances are then:\n",
    "$$\n",
    "c_{ij} = \\text{Cov}\\left(r_i^e,r_j^e\\right) \n",
    "= \\text{Cov}\\left(\\beta_1^i f_1 + \\beta_2^i f_2 + \\varepsilon_i, \\beta_1^j f_1 + \\beta_2^j f_2 + \\varepsilon_j\\right)\n",
    "= \\beta_1^i \\beta_1^j \\sigma_{f_1}^2 \n",
    "+ \\beta_2^i \\beta_2^j \\sigma_{f_2}^2 \n",
    "+ \\left(\\beta_1^i \\beta_2^j + \\beta_2^i \\beta_1^j\\right) \\text{Cov}(f_1,f_2) + \\text{Cov}(\\varepsilon_i,\\varepsilon_j).\n",
    "$$\n",
    "\n",
    "In a general multi-factor model (with $K$ factors), the variances and covariances are then given by:\n",
    "\\begin{align}\n",
    "c_{ii}^2 &= \\sum_{k=1}^K \\beta_k^i\\sigma_{f_k}^2 + \\sum_{k\\neq n}\\beta_k^i\\beta_n^i \\text{Cov}(f_k,f_n) + \\sigma_{\\varepsilon_i}^2, \\\\\n",
    "c_{ij}   &= \\sum_{k=1}^K \\beta_k^i\\beta_k^j\\sigma_{f_k}^2 + \\sum_{k\\neq n} \\beta_k^i\\beta_n^j \\text{Cov}(f_k,f_n)  \n",
    "+ \\text{Cov}(\\varepsilon_i,\\varepsilon_j) \n",
    "\\quad\\text{for $i\\neq j$}.\n",
    "\\end{align}\n",
    "\n",
    "Now, two things that we should try to do are (i) try to **look for uncorrelated factors**, i.e., $\\text{Cov}(f_k,f_n)=0$, for $k\\neq n$,  \n",
    "and (ii) assume that **errors are uncorrelated**, i.e., $\\text{Cov}(\\varepsilon_i,\\varepsilon_j)=0$, for $i\\neq j$. \n",
    "If a few factors can completely capture the cross-sectional risks, the number of parameters in covariance matrix estimation can be significantly reduced. In particular, the equations above are simplified:\n",
    "\\begin{align}\n",
    "c_{ii}^2 &= \\sum_{k=1}^K \\beta_k^i\\sigma_{f_k}^2  + \\sigma_{\\varepsilon_i}^2, \\\\\n",
    "c_{ij}   &= \\sum_{k=1}^K \\beta_k^i\\beta_k^j\\sigma_{f_k}^2\n",
    "\\quad\\text{for $i\\neq j$}.\n",
    "\\end{align}\n",
    "\n"
   ]
  },
  {
   "cell_type": "markdown",
   "metadata": {},
   "source": [
    "## Regression and Penalty Methods\n",
    "When using a factor model, all is about estimating parameters betas and alphas. \n",
    "Normally, we can conduct **traditional regressions**, where we minimize some error between the return of the asset that we are \n",
    "looking at and the loadings of the factors on that asset.\n",
    "\n",
    "### Classic Least-Squared fit (Ordinary Least-Squared OLS)\n",
    "\n",
    "In this context, we have a $n\\times 1$ vector $\\mathbf{y}$ which is the excess return of the asset under consideration and a $n\\times K$ \n",
    "matrix $X$ which represent our data, i.e., the excess return of the $K$ factors we have chosen. Hence we have to minimize:\n",
    "$$\n",
    "\\text{minimize} \\;\\; \\frac{1}{2N}||\\mathbf{y} - X\\mathbf{\\beta}||_2^2 = \n",
    "\\frac{1}{2N}\\sum_{i=1}^n \\left(y_i  - X_i\\cdot\\mathbf{\\beta}  \\right)^2, \n",
    "$$\n",
    "where $\\mathbf{\\beta}=(\\beta_1,\\dots,\\beta_K, \\alpha)^T$ is the vector of betas and the intercept alpha coefficients, \n",
    "and $X_i$ denotes the $i$-th row of the matrix $X$. \n",
    "The betas give us the best solution fitting of the assets to a linear relationship between the explanatory variables (the factors) \n",
    "and the dependent variable (the return of the asset). \n",
    "\n",
    "For such a minimization problem we can find the analytical expression for coefficients betas and alpha. The solution is given by \n",
    "$$\n",
    "\\beta^{\\text{OLS}} = (X^T X)^{-1} X^T \\mathbf{y}. \n",
    "$$"
   ]
  },
  {
   "cell_type": "markdown",
   "metadata": {},
   "source": [
    "### Penalty method: Ridge methods ($L^2$ penalization)\n",
    "\n",
    "Traditional regression methods are enhanced and made more robust by addign **penalty terms**. In particular, betas values would be much too high or low if the expalantory variables (the factors) had moderate-to-hight correlation. \n",
    "\n",
    "Then we can modify the minimization problem above by adding an extra term which at the end of the day simply \n",
    "**shrinks the optimal betas values**:\n",
    "$$\n",
    "\\text{minimize} \\;\\; \\frac{1}{2N} \\bigl( ||\\mathbf{y} - X\\mathbf{\\beta}||^2_2 + \\lambda||\\beta||_2^2  \\bigr)\n",
    "$$\n",
    "which is equivalent on solving the classic least-squared fit problem with a constraint on the betas coefficients. This method is called **$L^2$ penalization method or Ridge regression**."
   ]
  },
  {
   "cell_type": "markdown",
   "metadata": {},
   "source": [
    "### Penalty method: Lasso methods ($L^1$ penalization)\n",
    "\n",
    "A second modification to the first minimization problem is adding an extra term which, as in the Ridge regression, \n",
    "simply **shrinks the optimal betas values** and increase sparsity of the coefficient:\n",
    "$$\n",
    "\\text{minimize} \\;\\; \\frac{1}{2N} \\bigl( ||\\mathbf{y} - X\\mathbf{\\beta} ||_2^2 + \\lambda||\\beta||_1  \\bigr)\n",
    "$$\n",
    "which is equivalent on solving the classic least-squared fit problem with a constraint on the betas coefficients. This method is called **$L^1$ penalization method or Lasso regression**.\n",
    "\n",
    "Lasso regression results in a sparser solution than Ridge regression (i.e., fewer coefficients with non-zero values)."
   ]
  },
  {
   "cell_type": "markdown",
   "metadata": {},
   "source": [
    "### Penalty method: Elastic Net\n",
    "\n",
    "A third modification of the first minimization problem is putting together both the Lasso and the Ridge penalizations, i.e., we add \n",
    "adding two extra terms for shrinking the optimal betas values and increase sparsity of the coefficient:\n",
    "$$\n",
    "\\text{minimize} \\;\\; \\frac{1}{2N} \\bigl( ||\\mathbf{y} - X\\mathbf{\\beta} ||_2^2 + \\lambda_1||\\beta||_1 + \\lambda_2||\\beta||^2_2  \\bigr).\n",
    "$$\n",
    "This method is called the **Elastic Net regression**.\n"
   ]
  },
  {
   "cell_type": "markdown",
   "metadata": {},
   "source": [
    "### Best Subset Regression \n",
    "\n",
    "Penalized regressions are not the only type of regression we can run. We can also run constrained regressions. \n",
    "Formally, we define an intuitive constrained regression called the **Best Subset Regression** which attempts to find the linear model subject to the constraint that only $x$ factor loadings can be nonzero (in this case, $x$ is an integer that the user defines).\n",
    "\n",
    "The best subset regression is defined as follows. \n",
    "Let $L$ be the number of variables considered, i.e., the explanatory variables of the model (the factors) and let $N$ be the maximum number of variables allowed in the subset. \n",
    "Also let $\\textbf{z}$ be a $L\\times 1$ vector of **binary variables** and let $M$ be a very \n",
    "large number. \n",
    "Then: \n",
    "\\begin{equation*} \n",
    "    {\\hat{\\beta}}^{\\text{Best Subset}} = \\text{argmin}\\left\\{ ||\\mathbf{y} - X\\mathbf{\\beta} ||_2^2 \\right\\}\n",
    "\\end{equation*}\n",
    "subject to:\n",
    "\\begin{cases}\n",
    "\\sum_{i=1}^{L} z_i &\\leq N,  \\\\\n",
    "Mz + \\beta & \\geq 0,         \\\\\n",
    "\\beta  &\\leq Mz,             \\\\\n",
    "\\text{$\\mathbf{z}$ is binary}\n",
    "\\end{cases}"
   ]
  },
  {
   "cell_type": "markdown",
   "metadata": {},
   "source": [
    "### Cross validation\n",
    "\n",
    "The **Cross validation** is a Machine Learning approach for calculating the parameter in a statistical estimation task. \n",
    "Rather than fitting a model to all of the available data, **the approach “sets aside” subsets of the data for a validation phase** and repeat the process a certain number of times (e.g. 10 times). Then it averages the results obtained.\n",
    "\n",
    "For the purpose of factor investing, we add a penalty term to shrink the beta estimates, the factor loadings in the regression model \n",
    "(e.g., by using Ridge or Lasso regression). In addition, we add a penalty parameter that determines the best degree of shrinkage. \n",
    "This hyper parameter is calculated by identifying the value with the lowest out-of-sample error. \n",
    "Thus, **cross validation reduces the chances of overfitting**."
   ]
  },
  {
   "cell_type": "markdown",
   "metadata": {},
   "source": [
    "## Example of 5-factor models \n",
    "\n",
    "In the following example, we are interested in explaining the asset returns with a **five-factor model**:\n",
    "- **World Equity**: this factor represents worldwide equity returns.\n",
    "- **US Treasury**: this factor contains returns from treasury bonds in United States, the bonds with the least risk.\n",
    "- **Bond Risk Premia**: this is a credit factor that captures extra yield from risky bonds. It is defined as the spread between high risk bonds and US Treasury bonds.\n",
    "- **Inflation Protection**: this is a *style* factor that considers the difference between real and nominal returns, thus balances the need for both.\n",
    "- **Currency Protection**: this is also a *style* factor that includes risk premia for US domestic assets.\n",
    "\n",
    "We have the data for the above factors and for the following set of assets:\n",
    "- **US Equities**:\n",
    "- **Real Estate**:\n",
    "- **Commodities**:\n",
    "- **Corp Bonds**:"
   ]
  },
  {
   "cell_type": "markdown",
   "metadata": {},
   "source": [
    "pip install cvxpy"
   ]
  },
  {
   "cell_type": "markdown",
   "metadata": {},
   "source": [
    "pip install config"
   ]
  },
  {
   "cell_type": "code",
   "execution_count": 1,
   "metadata": {},
   "outputs": [
    {
     "name": "stderr",
     "output_type": "stream",
     "text": [
      "/usr/local/lib/python3.7/site-packages/pandas_datareader/compat/__init__.py:7: FutureWarning: pandas.util.testing is deprecated. Use the functions in the public API at pandas.testing instead.\n",
      "  from pandas.util.testing import assert_frame_equal\n"
     ]
    }
   ],
   "source": [
    "import sys\n",
    "import pandas as pd\n",
    "import numpy as np\n",
    "import statsmodels.api as sm\n",
    "import matplotlib.pyplot as plt\n",
    "import datetime as dt\n",
    "import config\n",
    "\n",
    "import cvxpy as cp\n",
    "from sklearn.linear_model import LinearRegression, Lasso, Ridge, ElasticNet\n",
    "from sklearn.model_selection import KFold, GridSearchCV\n",
    "from scipy.optimize import minimize\n",
    "from pandas_datareader import data "
   ]
  },
  {
   "cell_type": "code",
   "execution_count": 2,
   "metadata": {},
   "outputs": [],
   "source": [
    "import FactorModelLib as fm"
   ]
  },
  {
   "cell_type": "code",
   "execution_count": 3,
   "metadata": {},
   "outputs": [],
   "source": [
    "%load_ext autoreload\n",
    "%autoreload 2\n",
    "%matplotlib inline\n",
    "plt.rcParams['axes.labelsize'] = 14\n",
    "plt.rcParams['xtick.labelsize'] = 12\n",
    "plt.rcParams['ytick.labelsize'] = 12\n",
    "import FactorModelLib as fm "
   ]
  },
  {
   "cell_type": "code",
   "execution_count": 4,
   "metadata": {},
   "outputs": [
    {
     "data": {
      "text/html": [
       "<div>\n",
       "<style scoped>\n",
       "    .dataframe tbody tr th:only-of-type {\n",
       "        vertical-align: middle;\n",
       "    }\n",
       "\n",
       "    .dataframe tbody tr th {\n",
       "        vertical-align: top;\n",
       "    }\n",
       "\n",
       "    .dataframe thead th {\n",
       "        text-align: right;\n",
       "    }\n",
       "</style>\n",
       "<table border=\"1\" class=\"dataframe\">\n",
       "  <thead>\n",
       "    <tr style=\"text-align: right;\">\n",
       "      <th></th>\n",
       "      <th>Unnamed: 0</th>\n",
       "      <th>US Equities</th>\n",
       "      <th>World Equities</th>\n",
       "      <th>US Treasuries</th>\n",
       "      <th>High Yield</th>\n",
       "      <th>Real Estate</th>\n",
       "      <th>Commodities</th>\n",
       "      <th>Corp Bonds</th>\n",
       "      <th>T-bill</th>\n",
       "      <th>TIPS</th>\n",
       "      <th>Regime-5</th>\n",
       "      <th>Regime-7</th>\n",
       "      <th>Regime-9</th>\n",
       "    </tr>\n",
       "  </thead>\n",
       "  <tbody>\n",
       "    <tr>\n",
       "      <th>0</th>\n",
       "      <td>1/1/85</td>\n",
       "      <td>3.69</td>\n",
       "      <td>443.231</td>\n",
       "      <td>100.0000</td>\n",
       "      <td>112.905</td>\n",
       "      <td>382.65</td>\n",
       "      <td>769.53</td>\n",
       "      <td>245.62</td>\n",
       "      <td>564.0916</td>\n",
       "      <td>0.30%</td>\n",
       "      <td>1</td>\n",
       "      <td>1</td>\n",
       "      <td>1</td>\n",
       "    </tr>\n",
       "    <tr>\n",
       "      <th>1</th>\n",
       "      <td>2/1/85</td>\n",
       "      <td>3.99</td>\n",
       "      <td>455.868</td>\n",
       "      <td>101.9243</td>\n",
       "      <td>117.185</td>\n",
       "      <td>404.31</td>\n",
       "      <td>785.96</td>\n",
       "      <td>252.75</td>\n",
       "      <td>567.9944</td>\n",
       "      <td>-1.12%</td>\n",
       "      <td>1</td>\n",
       "      <td>1</td>\n",
       "      <td>1</td>\n",
       "    </tr>\n",
       "    <tr>\n",
       "      <th>2</th>\n",
       "      <td>3/1/85</td>\n",
       "      <td>4.11</td>\n",
       "      <td>451.672</td>\n",
       "      <td>100.1330</td>\n",
       "      <td>118.672</td>\n",
       "      <td>410.96</td>\n",
       "      <td>774.00</td>\n",
       "      <td>246.33</td>\n",
       "      <td>571.6528</td>\n",
       "      <td>1.61%</td>\n",
       "      <td>1</td>\n",
       "      <td>1</td>\n",
       "      <td>1</td>\n",
       "    </tr>\n",
       "    <tr>\n",
       "      <th>3</th>\n",
       "      <td>4/1/85</td>\n",
       "      <td>4.08</td>\n",
       "      <td>485.608</td>\n",
       "      <td>102.0311</td>\n",
       "      <td>119.185</td>\n",
       "      <td>408.20</td>\n",
       "      <td>802.77</td>\n",
       "      <td>251.11</td>\n",
       "      <td>575.8523</td>\n",
       "      <td>2.37%</td>\n",
       "      <td>1</td>\n",
       "      <td>1</td>\n",
       "      <td>1</td>\n",
       "    </tr>\n",
       "    <tr>\n",
       "      <th>4</th>\n",
       "      <td>5/1/85</td>\n",
       "      <td>4.03</td>\n",
       "      <td>484.414</td>\n",
       "      <td>104.1377</td>\n",
       "      <td>121.356</td>\n",
       "      <td>408.57</td>\n",
       "      <td>774.58</td>\n",
       "      <td>256.72</td>\n",
       "      <td>579.6807</td>\n",
       "      <td>5.26%</td>\n",
       "      <td>1</td>\n",
       "      <td>1</td>\n",
       "      <td>1</td>\n",
       "    </tr>\n",
       "  </tbody>\n",
       "</table>\n",
       "</div>"
      ],
      "text/plain": [
       "  Unnamed: 0  US Equities  World Equities  US Treasuries  High Yield  \\\n",
       "0     1/1/85         3.69         443.231       100.0000     112.905   \n",
       "1     2/1/85         3.99         455.868       101.9243     117.185   \n",
       "2     3/1/85         4.11         451.672       100.1330     118.672   \n",
       "3     4/1/85         4.08         485.608       102.0311     119.185   \n",
       "4     5/1/85         4.03         484.414       104.1377     121.356   \n",
       "\n",
       "   Real Estate  Commodities  Corp Bonds    T-bill    TIPS  Regime-5  Regime-7  \\\n",
       "0       382.65       769.53      245.62  564.0916   0.30%         1         1   \n",
       "1       404.31       785.96      252.75  567.9944  -1.12%         1         1   \n",
       "2       410.96       774.00      246.33  571.6528   1.61%         1         1   \n",
       "3       408.20       802.77      251.11  575.8523   2.37%         1         1   \n",
       "4       408.57       774.58      256.72  579.6807   5.26%         1         1   \n",
       "\n",
       "   Regime-9  \n",
       "0         1  \n",
       "1         1  \n",
       "2         1  \n",
       "3         1  \n",
       "4         1  "
      ]
     },
     "execution_count": 4,
     "metadata": {},
     "output_type": "execute_result"
    }
   ],
   "source": [
    "all_data = pd.read_csv('/Users/r.shyaamprasadh/Downloads/Python and Machine Learning for Asset  Management/data/Assets_7.csv')\n",
    "all_data.head()"
   ]
  },
  {
   "cell_type": "code",
   "execution_count": 5,
   "metadata": {},
   "outputs": [
    {
     "data": {
      "text/plain": [
       "0       1/1/85\n",
       "1       2/1/85\n",
       "2       3/1/85\n",
       "3       4/1/85\n",
       "4       5/1/85\n",
       "        ...   \n",
       "404     9/1/18\n",
       "405    10/1/18\n",
       "406    11/1/18\n",
       "407    12/1/18\n",
       "408     1/1/19\n",
       "Name: Unnamed: 0, Length: 409, dtype: object"
      ]
     },
     "execution_count": 5,
     "metadata": {},
     "output_type": "execute_result"
    }
   ],
   "source": [
    "all_data['Unnamed: 0']"
   ]
  },
  {
   "cell_type": "code",
   "execution_count": 6,
   "metadata": {},
   "outputs": [],
   "source": [
    "all_data = all_data.rename(columns={'Unnamed: 0': 'Date'})"
   ]
  },
  {
   "cell_type": "code",
   "execution_count": 7,
   "metadata": {},
   "outputs": [
    {
     "data": {
      "text/plain": [
       "Index(['Date', 'US Equities', 'World Equities', 'US Treasuries', 'High Yield',\n",
       "       'Real Estate', 'Commodities', 'Corp Bonds', 'T-bill', 'TIPS',\n",
       "       'Regime-5', 'Regime-7', 'Regime-9'],\n",
       "      dtype='object')"
      ]
     },
     "execution_count": 7,
     "metadata": {},
     "output_type": "execute_result"
    }
   ],
   "source": [
    "all_data.columns"
   ]
  },
  {
   "cell_type": "code",
   "execution_count": 8,
   "metadata": {},
   "outputs": [],
   "source": [
    "import config"
   ]
  },
  {
   "cell_type": "code",
   "execution_count": 9,
   "metadata": {},
   "outputs": [
    {
     "data": {
      "text/plain": [
       "'Date'"
      ]
     },
     "execution_count": 9,
     "metadata": {},
     "output_type": "execute_result"
    }
   ],
   "source": [
    "config.dateName"
   ]
  },
  {
   "cell_type": "code",
   "execution_count": 10,
   "metadata": {},
   "outputs": [],
   "source": [
    "all_data[config.dateName] = pd.to_datetime(all_data[config.dateName])"
   ]
  },
  {
   "cell_type": "code",
   "execution_count": 11,
   "metadata": {},
   "outputs": [
    {
     "data": {
      "text/html": [
       "<div>\n",
       "<style scoped>\n",
       "    .dataframe tbody tr th:only-of-type {\n",
       "        vertical-align: middle;\n",
       "    }\n",
       "\n",
       "    .dataframe tbody tr th {\n",
       "        vertical-align: top;\n",
       "    }\n",
       "\n",
       "    .dataframe thead th {\n",
       "        text-align: right;\n",
       "    }\n",
       "</style>\n",
       "<table border=\"1\" class=\"dataframe\">\n",
       "  <thead>\n",
       "    <tr style=\"text-align: right;\">\n",
       "      <th></th>\n",
       "      <th>Date</th>\n",
       "      <th>US Equities</th>\n",
       "      <th>World Equities</th>\n",
       "      <th>US Treasuries</th>\n",
       "      <th>High Yield</th>\n",
       "      <th>Real Estate</th>\n",
       "      <th>Commodities</th>\n",
       "      <th>Corp Bonds</th>\n",
       "      <th>T-bill</th>\n",
       "      <th>TIPS</th>\n",
       "      <th>Regime-5</th>\n",
       "      <th>Regime-7</th>\n",
       "      <th>Regime-9</th>\n",
       "    </tr>\n",
       "  </thead>\n",
       "  <tbody>\n",
       "    <tr>\n",
       "      <th>0</th>\n",
       "      <td>1985-01-01</td>\n",
       "      <td>3.69</td>\n",
       "      <td>443.231</td>\n",
       "      <td>100.0000</td>\n",
       "      <td>112.905</td>\n",
       "      <td>382.65</td>\n",
       "      <td>769.53</td>\n",
       "      <td>245.62</td>\n",
       "      <td>564.0916</td>\n",
       "      <td>0.30%</td>\n",
       "      <td>1</td>\n",
       "      <td>1</td>\n",
       "      <td>1</td>\n",
       "    </tr>\n",
       "    <tr>\n",
       "      <th>1</th>\n",
       "      <td>1985-02-01</td>\n",
       "      <td>3.99</td>\n",
       "      <td>455.868</td>\n",
       "      <td>101.9243</td>\n",
       "      <td>117.185</td>\n",
       "      <td>404.31</td>\n",
       "      <td>785.96</td>\n",
       "      <td>252.75</td>\n",
       "      <td>567.9944</td>\n",
       "      <td>-1.12%</td>\n",
       "      <td>1</td>\n",
       "      <td>1</td>\n",
       "      <td>1</td>\n",
       "    </tr>\n",
       "    <tr>\n",
       "      <th>2</th>\n",
       "      <td>1985-03-01</td>\n",
       "      <td>4.11</td>\n",
       "      <td>451.672</td>\n",
       "      <td>100.1330</td>\n",
       "      <td>118.672</td>\n",
       "      <td>410.96</td>\n",
       "      <td>774.00</td>\n",
       "      <td>246.33</td>\n",
       "      <td>571.6528</td>\n",
       "      <td>1.61%</td>\n",
       "      <td>1</td>\n",
       "      <td>1</td>\n",
       "      <td>1</td>\n",
       "    </tr>\n",
       "    <tr>\n",
       "      <th>3</th>\n",
       "      <td>1985-04-01</td>\n",
       "      <td>4.08</td>\n",
       "      <td>485.608</td>\n",
       "      <td>102.0311</td>\n",
       "      <td>119.185</td>\n",
       "      <td>408.20</td>\n",
       "      <td>802.77</td>\n",
       "      <td>251.11</td>\n",
       "      <td>575.8523</td>\n",
       "      <td>2.37%</td>\n",
       "      <td>1</td>\n",
       "      <td>1</td>\n",
       "      <td>1</td>\n",
       "    </tr>\n",
       "    <tr>\n",
       "      <th>4</th>\n",
       "      <td>1985-05-01</td>\n",
       "      <td>4.03</td>\n",
       "      <td>484.414</td>\n",
       "      <td>104.1377</td>\n",
       "      <td>121.356</td>\n",
       "      <td>408.57</td>\n",
       "      <td>774.58</td>\n",
       "      <td>256.72</td>\n",
       "      <td>579.6807</td>\n",
       "      <td>5.26%</td>\n",
       "      <td>1</td>\n",
       "      <td>1</td>\n",
       "      <td>1</td>\n",
       "    </tr>\n",
       "  </tbody>\n",
       "</table>\n",
       "</div>"
      ],
      "text/plain": [
       "        Date  US Equities  World Equities  US Treasuries  High Yield  \\\n",
       "0 1985-01-01         3.69         443.231       100.0000     112.905   \n",
       "1 1985-02-01         3.99         455.868       101.9243     117.185   \n",
       "2 1985-03-01         4.11         451.672       100.1330     118.672   \n",
       "3 1985-04-01         4.08         485.608       102.0311     119.185   \n",
       "4 1985-05-01         4.03         484.414       104.1377     121.356   \n",
       "\n",
       "   Real Estate  Commodities  Corp Bonds    T-bill    TIPS  Regime-5  Regime-7  \\\n",
       "0       382.65       769.53      245.62  564.0916   0.30%         1         1   \n",
       "1       404.31       785.96      252.75  567.9944  -1.12%         1         1   \n",
       "2       410.96       774.00      246.33  571.6528   1.61%         1         1   \n",
       "3       408.20       802.77      251.11  575.8523   2.37%         1         1   \n",
       "4       408.57       774.58      256.72  579.6807   5.26%         1         1   \n",
       "\n",
       "   Regime-9  \n",
       "0         1  \n",
       "1         1  \n",
       "2         1  \n",
       "3         1  \n",
       "4         1  "
      ]
     },
     "execution_count": 11,
     "metadata": {},
     "output_type": "execute_result"
    }
   ],
   "source": [
    "all_data.head(5)"
   ]
  },
  {
   "cell_type": "code",
   "execution_count": 12,
   "metadata": {},
   "outputs": [],
   "source": [
    "import ml_asset_kit as mla\n",
    "import edhec_risk_kit as erk"
   ]
  },
  {
   "cell_type": "code",
   "execution_count": 13,
   "metadata": {},
   "outputs": [
    {
     "data": {
      "text/html": [
       "<div>\n",
       "<style scoped>\n",
       "    .dataframe tbody tr th:only-of-type {\n",
       "        vertical-align: middle;\n",
       "    }\n",
       "\n",
       "    .dataframe tbody tr th {\n",
       "        vertical-align: top;\n",
       "    }\n",
       "\n",
       "    .dataframe thead th {\n",
       "        text-align: right;\n",
       "    }\n",
       "</style>\n",
       "<table border=\"1\" class=\"dataframe\">\n",
       "  <thead>\n",
       "    <tr style=\"text-align: right;\">\n",
       "      <th></th>\n",
       "      <th>World Equities</th>\n",
       "      <th>US Treasuries</th>\n",
       "      <th>Bond Risk Premium</th>\n",
       "      <th>Inflation Protection</th>\n",
       "      <th>Currency Protection</th>\n",
       "      <th>Regime-5</th>\n",
       "      <th>Regime-7</th>\n",
       "      <th>US Equities</th>\n",
       "      <th>Real Estate</th>\n",
       "      <th>Commodities</th>\n",
       "      <th>Corp Bonds</th>\n",
       "    </tr>\n",
       "    <tr>\n",
       "      <th>Date</th>\n",
       "      <th></th>\n",
       "      <th></th>\n",
       "      <th></th>\n",
       "      <th></th>\n",
       "      <th></th>\n",
       "      <th></th>\n",
       "      <th></th>\n",
       "      <th></th>\n",
       "      <th></th>\n",
       "      <th></th>\n",
       "      <th></th>\n",
       "    </tr>\n",
       "  </thead>\n",
       "  <tbody>\n",
       "    <tr>\n",
       "      <th>1985-01</th>\n",
       "      <td>0.028511</td>\n",
       "      <td>0.031500</td>\n",
       "      <td>0.006408</td>\n",
       "      <td>-0.016265</td>\n",
       "      <td>0.030292</td>\n",
       "      <td>1</td>\n",
       "      <td>1</td>\n",
       "      <td>0.081301</td>\n",
       "      <td>0.056605</td>\n",
       "      <td>0.021351</td>\n",
       "      <td>0.048963</td>\n",
       "    </tr>\n",
       "    <tr>\n",
       "      <th>1985-02</th>\n",
       "      <td>-0.009204</td>\n",
       "      <td>-0.044692</td>\n",
       "      <td>0.057381</td>\n",
       "      <td>0.006362</td>\n",
       "      <td>0.010258</td>\n",
       "      <td>1</td>\n",
       "      <td>1</td>\n",
       "      <td>0.030075</td>\n",
       "      <td>0.016448</td>\n",
       "      <td>-0.015217</td>\n",
       "      <td>-0.042029</td>\n",
       "    </tr>\n",
       "    <tr>\n",
       "      <th>1985-03</th>\n",
       "      <td>0.075134</td>\n",
       "      <td>0.028719</td>\n",
       "      <td>-0.024396</td>\n",
       "      <td>-0.002848</td>\n",
       "      <td>-0.020739</td>\n",
       "      <td>1</td>\n",
       "      <td>1</td>\n",
       "      <td>-0.007299</td>\n",
       "      <td>-0.006716</td>\n",
       "      <td>0.037171</td>\n",
       "      <td>0.032666</td>\n",
       "    </tr>\n",
       "    <tr>\n",
       "      <th>1985-04</th>\n",
       "      <td>-0.002459</td>\n",
       "      <td>0.023084</td>\n",
       "      <td>-0.004869</td>\n",
       "      <td>0.003089</td>\n",
       "      <td>0.008187</td>\n",
       "      <td>1</td>\n",
       "      <td>1</td>\n",
       "      <td>-0.012255</td>\n",
       "      <td>0.000906</td>\n",
       "      <td>-0.035116</td>\n",
       "      <td>0.037125</td>\n",
       "    </tr>\n",
       "    <tr>\n",
       "      <th>1985-05</th>\n",
       "      <td>0.040245</td>\n",
       "      <td>0.086780</td>\n",
       "      <td>-0.044417</td>\n",
       "      <td>0.004077</td>\n",
       "      <td>-0.002219</td>\n",
       "      <td>1</td>\n",
       "      <td>1</td>\n",
       "      <td>0.064516</td>\n",
       "      <td>0.027241</td>\n",
       "      <td>0.004351</td>\n",
       "      <td>0.104199</td>\n",
       "    </tr>\n",
       "  </tbody>\n",
       "</table>\n",
       "</div>"
      ],
      "text/plain": [
       "         World Equities  US Treasuries  Bond Risk Premium  \\\n",
       "Date                                                        \n",
       "1985-01        0.028511       0.031500           0.006408   \n",
       "1985-02       -0.009204      -0.044692           0.057381   \n",
       "1985-03        0.075134       0.028719          -0.024396   \n",
       "1985-04       -0.002459       0.023084          -0.004869   \n",
       "1985-05        0.040245       0.086780          -0.044417   \n",
       "\n",
       "         Inflation Protection  Currency Protection  Regime-5  Regime-7  \\\n",
       "Date                                                                     \n",
       "1985-01             -0.016265             0.030292         1         1   \n",
       "1985-02              0.006362             0.010258         1         1   \n",
       "1985-03             -0.002848            -0.020739         1         1   \n",
       "1985-04              0.003089             0.008187         1         1   \n",
       "1985-05              0.004077            -0.002219         1         1   \n",
       "\n",
       "         US Equities  Real Estate  Commodities  Corp Bonds  \n",
       "Date                                                        \n",
       "1985-01     0.081301     0.056605     0.021351    0.048963  \n",
       "1985-02     0.030075     0.016448    -0.015217   -0.042029  \n",
       "1985-03    -0.007299    -0.006716     0.037171    0.032666  \n",
       "1985-04    -0.012255     0.000906    -0.035116    0.037125  \n",
       "1985-05     0.064516     0.027241     0.004351    0.104199  "
      ]
     },
     "execution_count": 13,
     "metadata": {},
     "output_type": "execute_result"
    }
   ],
   "source": [
    "factors_assets = mla.get_factors_and_assets()\n",
    "factor_names   = list( factors_assets.columns[:5] )\n",
    "asset_names    = list( factors_assets.columns[7:] )\n",
    "factors_assets.head()"
   ]
  },
  {
   "cell_type": "code",
   "execution_count": 14,
   "metadata": {},
   "outputs": [
    {
     "data": {
      "image/png": "[encoded data removed]",
      "text/plain": [
       "<Figure size 576x360 with 1 Axes>"
      ]
     },
     "metadata": {
      "needs_background": "light"
     },
     "output_type": "display_data"
    }
   ],
   "source": [
    "fs = [\"Real Estate\",\"Commodities\"]\n",
    "erk.compound_returns(factors_assets[fs], start=1).plot(grid=True, figsize=(8,5), logy=True, title=\"Total returns of assets\")\n",
    "plt.show()"
   ]
  },
  {
   "cell_type": "code",
   "execution_count": 15,
   "metadata": {},
   "outputs": [
    {
     "data": {
      "text/html": [
       "<div>\n",
       "<style scoped>\n",
       "    .dataframe tbody tr th:only-of-type {\n",
       "        vertical-align: middle;\n",
       "    }\n",
       "\n",
       "    .dataframe tbody tr th {\n",
       "        vertical-align: top;\n",
       "    }\n",
       "\n",
       "    .dataframe thead th {\n",
       "        text-align: right;\n",
       "    }\n",
       "</style>\n",
       "<table border=\"1\" class=\"dataframe\">\n",
       "  <thead>\n",
       "    <tr style=\"text-align: right;\">\n",
       "      <th></th>\n",
       "      <th>World Equities</th>\n",
       "      <th>US Treasuries</th>\n",
       "      <th>Bond Risk Premium</th>\n",
       "      <th>Inflation Protection</th>\n",
       "      <th>Currency Protection</th>\n",
       "      <th>Regime-5</th>\n",
       "      <th>Regime-7</th>\n",
       "      <th>US Equities</th>\n",
       "      <th>Real Estate</th>\n",
       "      <th>Commodities</th>\n",
       "      <th>Corp Bonds</th>\n",
       "    </tr>\n",
       "    <tr>\n",
       "      <th>Date</th>\n",
       "      <th></th>\n",
       "      <th></th>\n",
       "      <th></th>\n",
       "      <th></th>\n",
       "      <th></th>\n",
       "      <th></th>\n",
       "      <th></th>\n",
       "      <th></th>\n",
       "      <th></th>\n",
       "      <th></th>\n",
       "      <th></th>\n",
       "    </tr>\n",
       "  </thead>\n",
       "  <tbody>\n",
       "    <tr>\n",
       "      <th>1987-10</th>\n",
       "      <td>-0.145045</td>\n",
       "      <td>0.068928</td>\n",
       "      <td>-0.101626</td>\n",
       "      <td>-0.010618</td>\n",
       "      <td>-0.025647</td>\n",
       "      <td>-1</td>\n",
       "      <td>-1</td>\n",
       "      <td>-0.227451</td>\n",
       "      <td>-0.142819</td>\n",
       "      <td>-0.013019</td>\n",
       "      <td>0.047145</td>\n",
       "    </tr>\n",
       "    <tr>\n",
       "      <th>2008-10</th>\n",
       "      <td>-0.204945</td>\n",
       "      <td>-0.039976</td>\n",
       "      <td>-0.112578</td>\n",
       "      <td>-0.083037</td>\n",
       "      <td>0.024725</td>\n",
       "      <td>-1</td>\n",
       "      <td>-1</td>\n",
       "      <td>-0.173147</td>\n",
       "      <td>-0.312202</td>\n",
       "      <td>-0.295256</td>\n",
       "      <td>-0.068198</td>\n",
       "    </tr>\n",
       "    <tr>\n",
       "      <th>2008-11</th>\n",
       "      <td>-0.111894</td>\n",
       "      <td>0.154699</td>\n",
       "      <td>-0.249246</td>\n",
       "      <td>-0.044064</td>\n",
       "      <td>-0.010747</td>\n",
       "      <td>-1</td>\n",
       "      <td>-1</td>\n",
       "      <td>-0.162932</td>\n",
       "      <td>-0.337308</td>\n",
       "      <td>-0.175630</td>\n",
       "      <td>0.053776</td>\n",
       "    </tr>\n",
       "  </tbody>\n",
       "</table>\n",
       "</div>"
      ],
      "text/plain": [
       "         World Equities  US Treasuries  Bond Risk Premium  \\\n",
       "Date                                                        \n",
       "1987-10       -0.145045       0.068928          -0.101626   \n",
       "2008-10       -0.204945      -0.039976          -0.112578   \n",
       "2008-11       -0.111894       0.154699          -0.249246   \n",
       "\n",
       "         Inflation Protection  Currency Protection  Regime-5  Regime-7  \\\n",
       "Date                                                                     \n",
       "1987-10             -0.010618            -0.025647        -1        -1   \n",
       "2008-10             -0.083037             0.024725        -1        -1   \n",
       "2008-11             -0.044064            -0.010747        -1        -1   \n",
       "\n",
       "         US Equities  Real Estate  Commodities  Corp Bonds  \n",
       "Date                                                        \n",
       "1987-10    -0.227451    -0.142819    -0.013019    0.047145  \n",
       "2008-10    -0.173147    -0.312202    -0.295256   -0.068198  \n",
       "2008-11    -0.162932    -0.337308    -0.175630    0.053776  "
      ]
     },
     "execution_count": 15,
     "metadata": {},
     "output_type": "execute_result"
    }
   ],
   "source": [
    "factors_assets.sort_values('US Equities').head(3)"
   ]
  },
  {
   "cell_type": "markdown",
   "metadata": {},
   "source": [
    "October 1987 was [black monday](https://en.wikipedia.org/wiki/Black_Monday_(1987)) and October / November 2008 was the beginnings of the [financial crisis](https://en.wikipedia.org/wiki/Financial_crisis_of_2007%E2%80%932008)"
   ]
  },
  {
   "cell_type": "markdown",
   "metadata": {},
   "source": [
    "### 2.2 OLS Regression <a class=\"anchor\" id=\"2.2\"></a>\n",
    "\n",
    "Now let's return to factor models.  Building a factor module is equivalent to solving for the factor loadings defined in part 1.  Ordinary Least Squares (OLS) regression is the simplest way.\n",
    "\n",
    "As we mentioned in part 1, OLS regression is equivalent to solving the following optimization problem\n",
    "\n",
    "\\begin{equation*} \n",
    "    \\hat{\\beta}^{\\text{OLS}} = argmin_{\\beta}\\bigg\\{\\sum_{t=1}^{n} (y_t - {X_t}^T {\\bf \\beta})^2 \\bigg\\}\n",
    "\\end{equation*}\n",
    "\n",
    "In our notation, n in the number of data points.  In this case, OLS regression has a closed form solution.\n",
    "\n",
    "\\begin{equation*} \n",
    "    \\hat{\\beta}^{\\text{OLS}} = ({\\bf X_t}^\\intercal {\\bf X_t})^{-1} {\\bf X_t}^\\intercal{\\bf Y_t}\n",
    "\\end{equation*}\n",
    "\n",
    "Where ${\\bf Y_t}$ is the vector representation of $y_t$, and ${\\bf X_t}$ is the matrix representation of $X_t$\n",
    "\n",
    "Let's take a second to look at, $\\hat{\\beta}$, the factor loadings.  What do they mean?  They represent the effect on the dependent variable caused by movement in the underlying factor.\n",
    "\n",
    "In this course we will be using the sikitlearn package to build models.  But since we have a closed form solution, let's check that the closed form solution gives the same answer as sikit-learn."
   ]
  },
  {
   "cell_type": "code",
   "execution_count": 55,
   "metadata": {},
   "outputs": [],
   "source": [
    "factors = factors_assets[factor_names].values\n",
    "assets  = factors_assets[asset_names].values\n",
    "y = factors_assets[\"Commodities\"].values"
   ]
  },
  {
   "cell_type": "code",
   "execution_count": 56,
   "metadata": {},
   "outputs": [
    {
     "data": {
      "text/html": [
       "<div>\n",
       "<style scoped>\n",
       "    .dataframe tbody tr th:only-of-type {\n",
       "        vertical-align: middle;\n",
       "    }\n",
       "\n",
       "    .dataframe tbody tr th {\n",
       "        vertical-align: top;\n",
       "    }\n",
       "\n",
       "    .dataframe thead th {\n",
       "        text-align: right;\n",
       "    }\n",
       "</style>\n",
       "<table border=\"1\" class=\"dataframe\">\n",
       "  <thead>\n",
       "    <tr style=\"text-align: right;\">\n",
       "      <th></th>\n",
       "      <th>World Equities</th>\n",
       "      <th>US Treasuries</th>\n",
       "      <th>Bond Risk Premium</th>\n",
       "      <th>Inflation Protection</th>\n",
       "      <th>Currency Protection</th>\n",
       "      <th>alpha</th>\n",
       "    </tr>\n",
       "  </thead>\n",
       "  <tbody>\n",
       "    <tr>\n",
       "      <th>beta</th>\n",
       "      <td>0.255708</td>\n",
       "      <td>-0.095741</td>\n",
       "      <td>0.133667</td>\n",
       "      <td>0.583607</td>\n",
       "      <td>-0.884024</td>\n",
       "      <td>0.004641</td>\n",
       "    </tr>\n",
       "  </tbody>\n",
       "</table>\n",
       "</div>"
      ],
      "text/plain": [
       "      World Equities  US Treasuries  Bond Risk Premium  Inflation Protection  \\\n",
       "beta        0.255708      -0.095741           0.133667              0.583607   \n",
       "\n",
       "      Currency Protection     alpha  \n",
       "beta            -0.884024  0.004641  "
      ]
     },
     "execution_count": 56,
     "metadata": {},
     "output_type": "execute_result"
    }
   ],
   "source": [
    "factors_ones = np.concatenate( (factors, np.ones((factors.shape[0],1))), axis=1 )\n",
    "betas = np.linalg.inv( factors_ones.T.dot(factors_ones) ).dot( factors_ones.T ).dot( y )\n",
    "betas = mla.display_betas(betas, factor_names) \n",
    "betas"
   ]
  },
  {
   "cell_type": "code",
   "execution_count": 58,
   "metadata": {},
   "outputs": [
    {
     "data": {
      "text/html": [
       "<div>\n",
       "<style scoped>\n",
       "    .dataframe tbody tr th:only-of-type {\n",
       "        vertical-align: middle;\n",
       "    }\n",
       "\n",
       "    .dataframe tbody tr th {\n",
       "        vertical-align: top;\n",
       "    }\n",
       "\n",
       "    .dataframe thead th {\n",
       "        text-align: right;\n",
       "    }\n",
       "</style>\n",
       "<table border=\"1\" class=\"dataframe\">\n",
       "  <thead>\n",
       "    <tr style=\"text-align: right;\">\n",
       "      <th></th>\n",
       "      <th>World Equities</th>\n",
       "      <th>US Treasuries</th>\n",
       "      <th>Bond Risk Premium</th>\n",
       "      <th>Inflation Protection</th>\n",
       "      <th>Currency Protection</th>\n",
       "      <th>alpha</th>\n",
       "    </tr>\n",
       "  </thead>\n",
       "  <tbody>\n",
       "    <tr>\n",
       "      <th>beta</th>\n",
       "      <td>0.255708</td>\n",
       "      <td>-0.095741</td>\n",
       "      <td>0.133667</td>\n",
       "      <td>0.583607</td>\n",
       "      <td>-0.884024</td>\n",
       "      <td>0.004641</td>\n",
       "    </tr>\n",
       "  </tbody>\n",
       "</table>\n",
       "</div>"
      ],
      "text/plain": [
       "      World Equities  US Treasuries  Bond Risk Premium  Inflation Protection  \\\n",
       "beta        0.255708      -0.095741           0.133667              0.583607   \n",
       "\n",
       "      Currency Protection     alpha  \n",
       "beta            -0.884024  0.004641  "
      ]
     },
     "execution_count": 58,
     "metadata": {},
     "output_type": "execute_result"
    }
   ],
   "source": [
    "# Linear Regression (OLS) using statsmodels OLS method implemented in our modules\n",
    "lm = erk.linear_regression(y, factors)\n",
    "betas = mla.display_betas(lm.params, factor_names)\n",
    "betas"
   ]
  },
  {
   "cell_type": "code",
   "execution_count": 57,
   "metadata": {},
   "outputs": [
    {
     "data": {
      "text/html": [
       "<div>\n",
       "<style scoped>\n",
       "    .dataframe tbody tr th:only-of-type {\n",
       "        vertical-align: middle;\n",
       "    }\n",
       "\n",
       "    .dataframe tbody tr th {\n",
       "        vertical-align: top;\n",
       "    }\n",
       "\n",
       "    .dataframe thead th {\n",
       "        text-align: right;\n",
       "    }\n",
       "</style>\n",
       "<table border=\"1\" class=\"dataframe\">\n",
       "  <thead>\n",
       "    <tr style=\"text-align: right;\">\n",
       "      <th></th>\n",
       "      <th>World Equities</th>\n",
       "      <th>US Treasuries</th>\n",
       "      <th>Bond Risk Premium</th>\n",
       "      <th>Inflation Protection</th>\n",
       "      <th>Currency Protection</th>\n",
       "      <th>alpha</th>\n",
       "    </tr>\n",
       "  </thead>\n",
       "  <tbody>\n",
       "    <tr>\n",
       "      <th>beta</th>\n",
       "      <td>0.255708</td>\n",
       "      <td>-0.095741</td>\n",
       "      <td>0.133667</td>\n",
       "      <td>0.583607</td>\n",
       "      <td>-0.884024</td>\n",
       "      <td>0.004641</td>\n",
       "    </tr>\n",
       "  </tbody>\n",
       "</table>\n",
       "</div>"
      ],
      "text/plain": [
       "      World Equities  US Treasuries  Bond Risk Premium  Inflation Protection  \\\n",
       "beta        0.255708      -0.095741           0.133667              0.583607   \n",
       "\n",
       "      Currency Protection     alpha  \n",
       "beta            -0.884024  0.004641  "
      ]
     },
     "execution_count": 57,
     "metadata": {},
     "output_type": "execute_result"
    }
   ],
   "source": [
    "lm = mla.linear_regression_sk(y, factors)\n",
    "betas = mla.display_betas( np.append(lm.coef_, lm.intercept_), factor_names)\n",
    "betas"
   ]
  },
  {
   "cell_type": "markdown",
   "metadata": {},
   "source": [
    "### OLS Drawbacks \n",
    "\n",
    "OLS has major drawbacks. First, OLS has **no mechanism to filter out noise variables**. Second, it assumes that **factor loadings are constant over time**. In practice, you will generally have many variables that you would like to filter down.  Moreover, the assumption that the factor loadings are constant over time is restrictive, and not true.  In fact, we will show that factor loadings are highly dependent on the time period.\n",
    "\n",
    "To demonstrate how OLS can be susceptible to noise, we introduce **a noise variable positively correlated with the World Equities factor**. \n",
    "Then we re-run the OLS regression and we will see that the regression chosses to average the two signals, \n",
    "changing the loading on the World Equity factor:"
   ]
  },
  {
   "cell_type": "code",
   "execution_count": 59,
   "metadata": {},
   "outputs": [],
   "source": [
    "factors_plus_noise = factors_assets[factor_names].copy()\n",
    "factors_plus_noise_names = factor_names + [\"Noise\"]"
   ]
  },
  {
   "cell_type": "code",
   "execution_count": 60,
   "metadata": {},
   "outputs": [],
   "source": [
    "ndata = factors_assets.shape[0]\n",
    "noise = np.random.normal(loc=0, scale=2*factors_assets[\"World Equities\"].std(), size=ndata)\n",
    "noise = np.reshape( noise + factors_assets[\"World Equities\"].values, (ndata,1) )"
   ]
  },
  {
   "cell_type": "code",
   "execution_count": 61,
   "metadata": {},
   "outputs": [],
   "source": [
    "factors_plus_noise[\"Noise\"] = noise"
   ]
  },
  {
   "cell_type": "code",
   "execution_count": 62,
   "metadata": {},
   "outputs": [
    {
     "data": {
      "text/html": [
       "<div>\n",
       "<style scoped>\n",
       "    .dataframe tbody tr th:only-of-type {\n",
       "        vertical-align: middle;\n",
       "    }\n",
       "\n",
       "    .dataframe tbody tr th {\n",
       "        vertical-align: top;\n",
       "    }\n",
       "\n",
       "    .dataframe thead th {\n",
       "        text-align: right;\n",
       "    }\n",
       "</style>\n",
       "<table border=\"1\" class=\"dataframe\">\n",
       "  <thead>\n",
       "    <tr style=\"text-align: right;\">\n",
       "      <th></th>\n",
       "      <th>World Equities</th>\n",
       "      <th>US Treasuries</th>\n",
       "      <th>Bond Risk Premium</th>\n",
       "      <th>Inflation Protection</th>\n",
       "      <th>Currency Protection</th>\n",
       "      <th>Noise</th>\n",
       "      <th>alpha</th>\n",
       "    </tr>\n",
       "  </thead>\n",
       "  <tbody>\n",
       "    <tr>\n",
       "      <th>beta</th>\n",
       "      <td>0.26956</td>\n",
       "      <td>-0.091096</td>\n",
       "      <td>0.135415</td>\n",
       "      <td>0.591757</td>\n",
       "      <td>-0.872521</td>\n",
       "      <td>-0.014632</td>\n",
       "      <td>0.004642</td>\n",
       "    </tr>\n",
       "  </tbody>\n",
       "</table>\n",
       "</div>"
      ],
      "text/plain": [
       "      World Equities  US Treasuries  Bond Risk Premium  Inflation Protection  \\\n",
       "beta         0.26956      -0.091096           0.135415              0.591757   \n",
       "\n",
       "      Currency Protection     Noise     alpha  \n",
       "beta            -0.872521 -0.014632  0.004642  "
      ]
     },
     "execution_count": 62,
     "metadata": {},
     "output_type": "execute_result"
    }
   ],
   "source": [
    "lm = mla.linear_regression_sk(y, factors_plus_noise)\n",
    "betas = mla.display_betas( np.append(lm.coef_, lm.intercept_), factors_plus_noise_names)\n",
    "betas"
   ]
  },
  {
   "cell_type": "markdown",
   "metadata": {},
   "source": [
    "To demonstrate on the drawback of the OLS regression we show that **the OLS estimator depends greatly on the time period**. \n",
    "We pick different time periods and run the OLS regression and see that the factor loadings can change dramatically \n",
    "depending on the time period. \n",
    "\n",
    "We filter the data into two different regimes: a first **normal regime** will be months where US Equities had a positive monthly return and a second **crash regime** being the months where US Equities had a negative return. \n",
    "These are crude approximations, but even with this crude definition we will return substantially different factor loadings:"
   ]
  },
  {
   "cell_type": "code",
   "execution_count": 63,
   "metadata": {},
   "outputs": [
    {
     "data": {
      "text/html": [
       "<div>\n",
       "<style scoped>\n",
       "    .dataframe tbody tr th:only-of-type {\n",
       "        vertical-align: middle;\n",
       "    }\n",
       "\n",
       "    .dataframe tbody tr th {\n",
       "        vertical-align: top;\n",
       "    }\n",
       "\n",
       "    .dataframe thead th {\n",
       "        text-align: right;\n",
       "    }\n",
       "</style>\n",
       "<table border=\"1\" class=\"dataframe\">\n",
       "  <thead>\n",
       "    <tr style=\"text-align: right;\">\n",
       "      <th></th>\n",
       "      <th>World Equities</th>\n",
       "      <th>US Treasuries</th>\n",
       "      <th>Bond Risk Premium</th>\n",
       "      <th>Inflation Protection</th>\n",
       "      <th>Currency Protection</th>\n",
       "      <th>alpha</th>\n",
       "    </tr>\n",
       "  </thead>\n",
       "  <tbody>\n",
       "    <tr>\n",
       "      <th>beta</th>\n",
       "      <td>0.15022</td>\n",
       "      <td>1.30286</td>\n",
       "      <td>1.100558</td>\n",
       "      <td>0.210193</td>\n",
       "      <td>0.05183</td>\n",
       "      <td>0.00348</td>\n",
       "    </tr>\n",
       "  </tbody>\n",
       "</table>\n",
       "</div>"
      ],
      "text/plain": [
       "      World Equities  US Treasuries  Bond Risk Premium  Inflation Protection  \\\n",
       "beta         0.15022        1.30286           1.100558              0.210193   \n",
       "\n",
       "      Currency Protection    alpha  \n",
       "beta              0.05183  0.00348  "
      ]
     },
     "execution_count": 63,
     "metadata": {},
     "output_type": "execute_result"
    }
   ],
   "source": [
    "# filtering data for positive US Equities - normal regime \n",
    "normal_data = factors_assets[factors_assets[\"US Equities\"] > 0].copy()\n",
    "normal_factors = normal_data[factor_names]\n",
    "normal_y = normal_data[asset_names][\"Real Estate\"]\n",
    "\n",
    "lm = mla.linear_regression_sk(normal_y, normal_factors)\n",
    "betas = mla.display_betas( np.append(lm.coef_, lm.intercept_), factor_names)\n",
    "betas"
   ]
  },
  {
   "cell_type": "code",
   "execution_count": 64,
   "metadata": {},
   "outputs": [
    {
     "data": {
      "text/html": [
       "<div>\n",
       "<style scoped>\n",
       "    .dataframe tbody tr th:only-of-type {\n",
       "        vertical-align: middle;\n",
       "    }\n",
       "\n",
       "    .dataframe tbody tr th {\n",
       "        vertical-align: top;\n",
       "    }\n",
       "\n",
       "    .dataframe thead th {\n",
       "        text-align: right;\n",
       "    }\n",
       "</style>\n",
       "<table border=\"1\" class=\"dataframe\">\n",
       "  <thead>\n",
       "    <tr style=\"text-align: right;\">\n",
       "      <th></th>\n",
       "      <th>World Equities</th>\n",
       "      <th>US Treasuries</th>\n",
       "      <th>Bond Risk Premium</th>\n",
       "      <th>Inflation Protection</th>\n",
       "      <th>Currency Protection</th>\n",
       "      <th>alpha</th>\n",
       "    </tr>\n",
       "  </thead>\n",
       "  <tbody>\n",
       "    <tr>\n",
       "      <th>beta</th>\n",
       "      <td>0.365824</td>\n",
       "      <td>0.959781</td>\n",
       "      <td>0.792532</td>\n",
       "      <td>0.540801</td>\n",
       "      <td>0.588727</td>\n",
       "      <td>-0.011274</td>\n",
       "    </tr>\n",
       "  </tbody>\n",
       "</table>\n",
       "</div>"
      ],
      "text/plain": [
       "      World Equities  US Treasuries  Bond Risk Premium  Inflation Protection  \\\n",
       "beta        0.365824       0.959781           0.792532              0.540801   \n",
       "\n",
       "      Currency Protection     alpha  \n",
       "beta             0.588727 -0.011274  "
      ]
     },
     "execution_count": 64,
     "metadata": {},
     "output_type": "execute_result"
    }
   ],
   "source": [
    "# filtering data for negative US Equities - crash regime \n",
    "crash_data = factors_assets[factors_assets[\"US Equities\"] <= 0].copy()\n",
    "crash_factors = crash_data[factor_names]\n",
    "crash_y = crash_data[asset_names][\"Real Estate\"]\n",
    "\n",
    "lm = mla.linear_regression_sk(crash_y, crash_factors)\n",
    "betas = mla.display_betas( np.append(lm.coef_, lm.intercept_), factor_names)\n",
    "betas"
   ]
  },
  {
   "cell_type": "markdown",
   "metadata": {},
   "source": [
    "Even with a crude definition of a \"crash\" regime we have isolated different factor loadings.  Notice that during normal periods the loading on Currency Protection is close to zero, but during crash periods is 10x larger!"
   ]
  },
  {
   "cell_type": "markdown",
   "metadata": {},
   "source": [
    "## 3 Alternative ML Methods <a class=\"anchor\" id=\"3\"></a>\n",
    "\n",
    "Now that we have motivated the drawbacks of OLS, we can move to modern machine learning techniques.  We will discus two new methods in this section as improvements to OLS to handle noise variables.\n",
    "\n",
    "The first, LASSO regression, is the simplest version of regularized regression.  Regularized regression means that we add a penalty term to the optimization problem to penalize the model's complexity.  For the sake of intuition, imagine if we could penalize the number of non zero coeficients we add to the model.  In that instance we would expect that the model would only consider the variables that really influence Y, and ignore the noise variables.  LASSO regression (defined below) does exactly that.\n",
    "\n",
    "The second method is called \"best subset selection.\"  Conceptually, the optimization problem is directly constrained to only allow for a certain number of non zero coeficients.  Put another way, best x-subset regression says \"I want the best model where I can at maximum use x variables.\""
   ]
  },
  {
   "cell_type": "markdown",
   "metadata": {},
   "source": [
    "### LASSO Regression <a class=\"anchor\" id=\"3.0\"></a>\n",
    "\n",
    "We define LASSO regression as the following optimization problem.\n",
    "\n",
    "As before, n is the number of data points, and m is the number factors.\n",
    "\n",
    "\\begin{equation*} \n",
    "    {\\hat{\\beta}}^{\\text{LASSO}} = argmin_{\\beta}\\bigg\\{\\sum_{t=1}^{n} (y_t - X_t^T \\beta)^2 + \\lambda \\sum_{j=1}^{m}|\\beta_j| \\bigg\\}\n",
    "\\end{equation*}\n",
    "\n",
    "Note that it is the same as the OLS regression, but with a second penalty term.  As stated above, it directly penalizes the use of non zero coeficients and can be shown to set factor loadings to zero.  If you want to learn more about the theoretical properties of LASSO regression.  The text book [Elements of Statistical Learning](https://web.stanford.edu/~hastie/ElemStatLearn/) covers the method in detail.\n",
    "\n",
    "$\\lambda$ is called a hyperparameter which you need to choose.  Sikit-learn doesn't use $\\lambda$ it uses $\\alpha$ which can be related via the following equation\n",
    "\n",
    "\\begin{equation*}\n",
    "    {\\frac{\\lambda}{2*n} = \\alpha}\n",
    "\\end{equation*}\n",
    "\n",
    "Where $n$ is the number of data points.  For now, let's arbitrarily pick $\\lambda = .1$"
   ]
  },
  {
   "cell_type": "code",
   "execution_count": 65,
   "metadata": {},
   "outputs": [
    {
     "data": {
      "text/html": [
       "<div>\n",
       "<style scoped>\n",
       "    .dataframe tbody tr th:only-of-type {\n",
       "        vertical-align: middle;\n",
       "    }\n",
       "\n",
       "    .dataframe tbody tr th {\n",
       "        vertical-align: top;\n",
       "    }\n",
       "\n",
       "    .dataframe thead th {\n",
       "        text-align: right;\n",
       "    }\n",
       "</style>\n",
       "<table border=\"1\" class=\"dataframe\">\n",
       "  <thead>\n",
       "    <tr style=\"text-align: right;\">\n",
       "      <th></th>\n",
       "      <th>World Equities</th>\n",
       "      <th>US Treasuries</th>\n",
       "      <th>Bond Risk Premium</th>\n",
       "      <th>Inflation Protection</th>\n",
       "      <th>Currency Protection</th>\n",
       "      <th>alpha</th>\n",
       "    </tr>\n",
       "  </thead>\n",
       "  <tbody>\n",
       "    <tr>\n",
       "      <th>beta</th>\n",
       "      <td>0.275388</td>\n",
       "      <td>-0.0</td>\n",
       "      <td>0.15678</td>\n",
       "      <td>0.205621</td>\n",
       "      <td>-0.095088</td>\n",
       "      <td>0.002722</td>\n",
       "    </tr>\n",
       "  </tbody>\n",
       "</table>\n",
       "</div>"
      ],
      "text/plain": [
       "      World Equities  US Treasuries  Bond Risk Premium  Inflation Protection  \\\n",
       "beta        0.275388           -0.0            0.15678              0.205621   \n",
       "\n",
       "      Currency Protection     alpha  \n",
       "beta            -0.095088  0.002722  "
      ]
     },
     "execution_count": 65,
     "metadata": {},
     "output_type": "execute_result"
    }
   ],
   "source": [
    "# for now let's arbitrarily pick lambda = 0.1\n",
    "lambdapar = 0.1\n",
    "lm = mla.lasso_regression_sk(y, factors, lambdapar=lambdapar)\n",
    "betas = mla.display_betas( np.append(lm.coef_, lm.intercept_), factor_names)\n",
    "betas"
   ]
  },
  {
   "cell_type": "markdown",
   "metadata": {},
   "source": [
    "Let us show how the Lasso regression filters out the noise variable:"
   ]
  },
  {
   "cell_type": "code",
   "execution_count": 66,
   "metadata": {},
   "outputs": [
    {
     "data": {
      "text/html": [
       "<div>\n",
       "<style scoped>\n",
       "    .dataframe tbody tr th:only-of-type {\n",
       "        vertical-align: middle;\n",
       "    }\n",
       "\n",
       "    .dataframe tbody tr th {\n",
       "        vertical-align: top;\n",
       "    }\n",
       "\n",
       "    .dataframe thead th {\n",
       "        text-align: right;\n",
       "    }\n",
       "</style>\n",
       "<table border=\"1\" class=\"dataframe\">\n",
       "  <thead>\n",
       "    <tr style=\"text-align: right;\">\n",
       "      <th></th>\n",
       "      <th>World Equities</th>\n",
       "      <th>US Treasuries</th>\n",
       "      <th>Bond Risk Premium</th>\n",
       "      <th>Inflation Protection</th>\n",
       "      <th>Currency Protection</th>\n",
       "      <th>Noise</th>\n",
       "      <th>alpha</th>\n",
       "    </tr>\n",
       "  </thead>\n",
       "  <tbody>\n",
       "    <tr>\n",
       "      <th>beta</th>\n",
       "      <td>0.275388</td>\n",
       "      <td>-0.0</td>\n",
       "      <td>0.15678</td>\n",
       "      <td>0.205621</td>\n",
       "      <td>-0.095088</td>\n",
       "      <td>-0.0</td>\n",
       "      <td>0.002722</td>\n",
       "    </tr>\n",
       "  </tbody>\n",
       "</table>\n",
       "</div>"
      ],
      "text/plain": [
       "      World Equities  US Treasuries  Bond Risk Premium  Inflation Protection  \\\n",
       "beta        0.275388           -0.0            0.15678              0.205621   \n",
       "\n",
       "      Currency Protection  Noise     alpha  \n",
       "beta            -0.095088   -0.0  0.002722  "
      ]
     },
     "execution_count": 66,
     "metadata": {},
     "output_type": "execute_result"
    }
   ],
   "source": [
    "lm = mla.lasso_regression_sk(y, factors_plus_noise, lambdapar=lambdapar)\n",
    "betas = mla.display_betas( np.append(lm.coef_, lm.intercept_), factors_plus_noise_names)\n",
    "betas"
   ]
  },
  {
   "cell_type": "code",
   "execution_count": 67,
   "metadata": {},
   "outputs": [
    {
     "data": {
      "text/html": [
       "<div>\n",
       "<style scoped>\n",
       "    .dataframe tbody tr th:only-of-type {\n",
       "        vertical-align: middle;\n",
       "    }\n",
       "\n",
       "    .dataframe tbody tr th {\n",
       "        vertical-align: top;\n",
       "    }\n",
       "\n",
       "    .dataframe thead th {\n",
       "        text-align: right;\n",
       "    }\n",
       "</style>\n",
       "<table border=\"1\" class=\"dataframe\">\n",
       "  <thead>\n",
       "    <tr style=\"text-align: right;\">\n",
       "      <th></th>\n",
       "      <th>World Equities</th>\n",
       "      <th>US Treasuries</th>\n",
       "      <th>Bond Risk Premium</th>\n",
       "      <th>Inflation Protection</th>\n",
       "      <th>Currency Protection</th>\n",
       "      <th>Noise</th>\n",
       "      <th>alpha</th>\n",
       "    </tr>\n",
       "  </thead>\n",
       "  <tbody>\n",
       "    <tr>\n",
       "      <th>beta</th>\n",
       "      <td>0.250733</td>\n",
       "      <td>-0.0</td>\n",
       "      <td>0.114458</td>\n",
       "      <td>0.0</td>\n",
       "      <td>-0.0</td>\n",
       "      <td>0.0</td>\n",
       "      <td>0.00292</td>\n",
       "    </tr>\n",
       "  </tbody>\n",
       "</table>\n",
       "</div>"
      ],
      "text/plain": [
       "      World Equities  US Treasuries  Bond Risk Premium  Inflation Protection  \\\n",
       "beta        0.250733           -0.0           0.114458                   0.0   \n",
       "\n",
       "      Currency Protection  Noise    alpha  \n",
       "beta                 -0.0    0.0  0.00292  "
      ]
     },
     "execution_count": 67,
     "metadata": {},
     "output_type": "execute_result"
    }
   ],
   "source": [
    "# another try with lambda = 0.2\n",
    "lm = mla.lasso_regression_sk(y, factors_plus_noise, lambdapar=0.2)\n",
    "betas = mla.display_betas( np.append(lm.coef_, lm.intercept_), factors_plus_noise_names)\n",
    "betas"
   ]
  },
  {
   "cell_type": "markdown",
   "metadata": {},
   "source": [
    "### Cross Validation\n",
    "In the experiments above with Lasso regression we had indeed another problem, the choice of $\\lambda$. \n",
    "In practice, most people use **cross-validation** to find out an optimal value. \n",
    "We will not give a formal definition of cross-validation here, and instead we will give a heuristic.\n",
    "\n",
    "In **cross-validation**, we first break the training set into $K$ folds, and define a list of $\\lambda$ values. \n",
    "For each fold, and for each $\\lambda$, we train the model $k-1$ other folds, and calculate the error on the test fold. At the end of this, you will have $K$ out of sample errors for each value of lambda. Then we pick the $\\lambda$ which produces the average error across \n",
    "the out of sample tests.\n",
    "\n",
    "Here we use cross validation to pick the optimal lambda value for Lasso regression:"
   ]
  },
  {
   "cell_type": "markdown",
   "metadata": {},
   "source": [
    "#### Lasso Regression "
   ]
  },
  {
   "cell_type": "code",
   "execution_count": 29,
   "metadata": {},
   "outputs": [
    {
     "name": "stderr",
     "output_type": "stream",
     "text": [
      "/usr/local/lib/python3.7/site-packages/sklearn/model_selection/_search.py:841: DeprecationWarning: The default of the `iid` parameter will change from True to False in version 0.22 and will be removed in 0.24. This will change numeric results when test-set sizes are unequal.\n",
      "  DeprecationWarning)\n"
     ]
    }
   ],
   "source": [
    "gsCV = mla.cross_val_lasso_regression(y, factors, lambda_max=0.25, n_lambdas=100, n_folds=10, rs=7777)"
   ]
  },
  {
   "cell_type": "code",
   "execution_count": 30,
   "metadata": {},
   "outputs": [
    {
     "name": "stdout",
     "output_type": "stream",
     "text": [
      "best lambda: 0.048634343434343426\n"
     ]
    }
   ],
   "source": [
    "best_lambda = mla.recover_regression_bestpar_from_gsCV(gsCV, factors, \"lasso\")"
   ]
  },
  {
   "cell_type": "code",
   "execution_count": 31,
   "metadata": {},
   "outputs": [
    {
     "data": {
      "text/html": [
       "<div>\n",
       "<style scoped>\n",
       "    .dataframe tbody tr th:only-of-type {\n",
       "        vertical-align: middle;\n",
       "    }\n",
       "\n",
       "    .dataframe tbody tr th {\n",
       "        vertical-align: top;\n",
       "    }\n",
       "\n",
       "    .dataframe thead th {\n",
       "        text-align: right;\n",
       "    }\n",
       "</style>\n",
       "<table border=\"1\" class=\"dataframe\">\n",
       "  <thead>\n",
       "    <tr style=\"text-align: right;\">\n",
       "      <th></th>\n",
       "      <th>World Equities</th>\n",
       "      <th>US Treasuries</th>\n",
       "      <th>Bond Risk Premium</th>\n",
       "      <th>Inflation Protection</th>\n",
       "      <th>Currency Protection</th>\n",
       "      <th>alpha</th>\n",
       "    </tr>\n",
       "  </thead>\n",
       "  <tbody>\n",
       "    <tr>\n",
       "      <th>beta</th>\n",
       "      <td>0.311805</td>\n",
       "      <td>0.875641</td>\n",
       "      <td>0.835079</td>\n",
       "      <td>0.044825</td>\n",
       "      <td>0.0</td>\n",
       "      <td>-0.000342</td>\n",
       "    </tr>\n",
       "  </tbody>\n",
       "</table>\n",
       "</div>"
      ],
      "text/plain": [
       "      World Equities  US Treasuries  Bond Risk Premium  Inflation Protection  \\\n",
       "beta        0.311805       0.875641           0.835079              0.044825   \n",
       "\n",
       "      Currency Protection     alpha  \n",
       "beta                  0.0 -0.000342  "
      ]
     },
     "execution_count": 31,
     "metadata": {},
     "output_type": "execute_result"
    }
   ],
   "source": [
    "# Regression using the best estimator\n",
    "betas = np.append(gsCV.best_estimator_.coef_, gsCV.best_estimator_.intercept_)\n",
    "betas = mla.display_betas(betas, factor_names)\n",
    "betas"
   ]
  },
  {
   "cell_type": "markdown",
   "metadata": {},
   "source": [
    "Let us run the cross-validation Lasso regression in the case of noise:"
   ]
  },
  {
   "cell_type": "code",
   "execution_count": 32,
   "metadata": {},
   "outputs": [
    {
     "name": "stderr",
     "output_type": "stream",
     "text": [
      "/usr/local/lib/python3.7/site-packages/sklearn/model_selection/_search.py:841: DeprecationWarning: The default of the `iid` parameter will change from True to False in version 0.22 and will be removed in 0.24. This will change numeric results when test-set sizes are unequal.\n",
      "  DeprecationWarning)\n"
     ]
    }
   ],
   "source": [
    "gsCV = mla.cross_val_lasso_regression(y, factors_plus_noise, lambda_max=0.25, n_lambdas=100, n_folds=10, rs=7777)"
   ]
  },
  {
   "cell_type": "code",
   "execution_count": 33,
   "metadata": {},
   "outputs": [
    {
     "name": "stdout",
     "output_type": "stream",
     "text": [
      "best lambda: 0.048634343434343426\n"
     ]
    }
   ],
   "source": [
    "best_lambda = mla.recover_regression_bestpar_from_gsCV(gsCV, factors_plus_noise, \"lasso\")"
   ]
  },
  {
   "cell_type": "code",
   "execution_count": 34,
   "metadata": {},
   "outputs": [
    {
     "data": {
      "text/html": [
       "<div>\n",
       "<style scoped>\n",
       "    .dataframe tbody tr th:only-of-type {\n",
       "        vertical-align: middle;\n",
       "    }\n",
       "\n",
       "    .dataframe tbody tr th {\n",
       "        vertical-align: top;\n",
       "    }\n",
       "\n",
       "    .dataframe thead th {\n",
       "        text-align: right;\n",
       "    }\n",
       "</style>\n",
       "<table border=\"1\" class=\"dataframe\">\n",
       "  <thead>\n",
       "    <tr style=\"text-align: right;\">\n",
       "      <th></th>\n",
       "      <th>World Equities</th>\n",
       "      <th>US Treasuries</th>\n",
       "      <th>Bond Risk Premium</th>\n",
       "      <th>Inflation Protection</th>\n",
       "      <th>Currency Protection</th>\n",
       "      <th>Noise</th>\n",
       "      <th>alpha</th>\n",
       "    </tr>\n",
       "  </thead>\n",
       "  <tbody>\n",
       "    <tr>\n",
       "      <th>beta</th>\n",
       "      <td>0.322438</td>\n",
       "      <td>0.874883</td>\n",
       "      <td>0.833327</td>\n",
       "      <td>0.038439</td>\n",
       "      <td>0.0</td>\n",
       "      <td>-0.012839</td>\n",
       "      <td>-0.000219</td>\n",
       "    </tr>\n",
       "  </tbody>\n",
       "</table>\n",
       "</div>"
      ],
      "text/plain": [
       "      World Equities  US Treasuries  Bond Risk Premium  Inflation Protection  \\\n",
       "beta        0.322438       0.874883           0.833327              0.038439   \n",
       "\n",
       "      Currency Protection     Noise     alpha  \n",
       "beta                  0.0 -0.012839 -0.000219  "
      ]
     },
     "execution_count": 34,
     "metadata": {},
     "output_type": "execute_result"
    }
   ],
   "source": [
    "# Regression using the best estimator\n",
    "betas = np.append(gsCV.best_estimator_.coef_, gsCV.best_estimator_.intercept_)\n",
    "betas = mla.display_betas(betas, factors_plus_noise_names)\n",
    "betas"
   ]
  },
  {
   "cell_type": "markdown",
   "metadata": {},
   "source": [
    "### Elastic Net <a class=\"anchor\" id=\"3.2\"></a>\n",
    "\n",
    "Now that we've discussed cross validation and LASSO regression, one can mix and match penalized regressions to create regressions with specific proporties.  For instance, we know from literature that LASSO regression can be used for variable selection.  We also know that Ridge regression (defined below) shrinks coeficients to provide a more robust solution.  Combined, it's called an Elastic Net, and it can provide the benefits of both methods.\n",
    "\n",
    "Again, for our notation, n is the number of data points, and m is the number of factors.\n",
    "\n",
    "\\begin{equation*} \n",
    "    {\\hat{\\beta}}^{\\text{LASSO}} = argmin_{\\beta}\\bigg\\{\\sum_{t=1}^{n} (y_t - X_t^T \\beta)^2 + \\lambda_1 \\sum_{j=1}^{m}|\\beta_j| \\bigg\\}\n",
    "\\end{equation*}\n",
    "\n",
    "\\begin{equation*} \n",
    "    {\\hat{\\beta}}^{\\text{Ridge}} = argmin_{\\beta}\\bigg\\{\\sum_{t=1}^{n} (y_t - X_t^T \\beta)^2 + \\lambda_2||\\beta||_2^2 \\bigg\\}\n",
    "\\end{equation*}\n",
    "\n",
    "\\begin{equation*} \n",
    "    {\\hat{\\beta}}^{\\text{Elastic Net}} = argmin_{\\beta}\\bigg\\{\\sum_{t=1}^{n} (y_t - X_t^T \\beta)^2 + \\lambda_1 \\sum_{j=1}^{m}|\\beta_j| + \\lambda_2||\\beta||_2^2 \\bigg\\}\n",
    "\\end{equation*}\n",
    "\n",
    "In our notation, $||\\beta||_2^2$ indicates the two norm of the vector $\\beta$\n",
    "\n",
    "Let's run Elastic Net and see if we get different results."
   ]
  },
  {
   "cell_type": "code",
   "execution_count": 35,
   "metadata": {},
   "outputs": [
    {
     "name": "stderr",
     "output_type": "stream",
     "text": [
      "/usr/local/lib/python3.7/site-packages/sklearn/model_selection/_search.py:841: DeprecationWarning: The default of the `iid` parameter will change from True to False in version 0.22 and will be removed in 0.24. This will change numeric results when test-set sizes are unequal.\n",
      "  DeprecationWarning)\n"
     ]
    }
   ],
   "source": [
    "gsCV = mla.cross_val_elasticnet_regression(y, factors, lambda_max=0.25, n_lambdas=50, l1_ratio_max=0.99, n_l1ratio=50, n_folds=10, rs=7777)"
   ]
  },
  {
   "cell_type": "code",
   "execution_count": 36,
   "metadata": {},
   "outputs": [
    {
     "data": {
      "text/html": [
       "<div>\n",
       "<style scoped>\n",
       "    .dataframe tbody tr th:only-of-type {\n",
       "        vertical-align: middle;\n",
       "    }\n",
       "\n",
       "    .dataframe tbody tr th {\n",
       "        vertical-align: top;\n",
       "    }\n",
       "\n",
       "    .dataframe thead th {\n",
       "        text-align: right;\n",
       "    }\n",
       "</style>\n",
       "<table border=\"1\" class=\"dataframe\">\n",
       "  <thead>\n",
       "    <tr style=\"text-align: right;\">\n",
       "      <th></th>\n",
       "      <th>World Equities</th>\n",
       "      <th>US Treasuries</th>\n",
       "      <th>Bond Risk Premium</th>\n",
       "      <th>Inflation Protection</th>\n",
       "      <th>Currency Protection</th>\n",
       "      <th>alpha</th>\n",
       "    </tr>\n",
       "  </thead>\n",
       "  <tbody>\n",
       "    <tr>\n",
       "      <th>beta</th>\n",
       "      <td>0.310548</td>\n",
       "      <td>0.889796</td>\n",
       "      <td>0.844634</td>\n",
       "      <td>0.056504</td>\n",
       "      <td>0.0</td>\n",
       "      <td>-0.000444</td>\n",
       "    </tr>\n",
       "  </tbody>\n",
       "</table>\n",
       "</div>"
      ],
      "text/plain": [
       "      World Equities  US Treasuries  Bond Risk Premium  Inflation Protection  \\\n",
       "beta        0.310548       0.889796           0.844634              0.056504   \n",
       "\n",
       "      Currency Protection     alpha  \n",
       "beta                  0.0 -0.000444  "
      ]
     },
     "execution_count": 36,
     "metadata": {},
     "output_type": "execute_result"
    }
   ],
   "source": [
    "betas = np.append(gsCV.best_estimator_.coef_, gsCV.best_estimator_.intercept_)\n",
    "betas = mla.display_betas(betas, factor_names)\n",
    "betas"
   ]
  },
  {
   "cell_type": "code",
   "execution_count": 37,
   "metadata": {},
   "outputs": [
    {
     "name": "stderr",
     "output_type": "stream",
     "text": [
      "/usr/local/lib/python3.7/site-packages/sklearn/model_selection/_search.py:841: DeprecationWarning: The default of the `iid` parameter will change from True to False in version 0.22 and will be removed in 0.24. This will change numeric results when test-set sizes are unequal.\n",
      "  DeprecationWarning)\n"
     ]
    }
   ],
   "source": [
    "# The case with noise \n",
    "gsCV = mla.cross_val_elasticnet_regression(y, factors_plus_noise, lambda_max=0.25, n_lambdas=50, l1_ratio_max=0.99, n_l1ratio=50, n_folds=10, rs=7777)"
   ]
  },
  {
   "cell_type": "code",
   "execution_count": 38,
   "metadata": {},
   "outputs": [
    {
     "name": "stdout",
     "output_type": "stream",
     "text": [
      "best lambda1: 0.04611379591836734\n",
      "best lambda2: 0.00023289795918367363\n"
     ]
    }
   ],
   "source": [
    "best_lambda1, best_lambda2 = mla.recover_regression_bestpar_from_gsCV(gsCV, factors_plus_noise, \"elasticnet\")"
   ]
  },
  {
   "cell_type": "code",
   "execution_count": 39,
   "metadata": {},
   "outputs": [
    {
     "data": {
      "text/html": [
       "<div>\n",
       "<style scoped>\n",
       "    .dataframe tbody tr th:only-of-type {\n",
       "        vertical-align: middle;\n",
       "    }\n",
       "\n",
       "    .dataframe tbody tr th {\n",
       "        vertical-align: top;\n",
       "    }\n",
       "\n",
       "    .dataframe thead th {\n",
       "        text-align: right;\n",
       "    }\n",
       "</style>\n",
       "<table border=\"1\" class=\"dataframe\">\n",
       "  <thead>\n",
       "    <tr style=\"text-align: right;\">\n",
       "      <th></th>\n",
       "      <th>World Equities</th>\n",
       "      <th>US Treasuries</th>\n",
       "      <th>Bond Risk Premium</th>\n",
       "      <th>Inflation Protection</th>\n",
       "      <th>Currency Protection</th>\n",
       "      <th>Noise</th>\n",
       "      <th>alpha</th>\n",
       "    </tr>\n",
       "  </thead>\n",
       "  <tbody>\n",
       "    <tr>\n",
       "      <th>beta</th>\n",
       "      <td>0.321467</td>\n",
       "      <td>0.889025</td>\n",
       "      <td>0.84284</td>\n",
       "      <td>0.049957</td>\n",
       "      <td>0.0</td>\n",
       "      <td>-0.01319</td>\n",
       "      <td>-0.000318</td>\n",
       "    </tr>\n",
       "  </tbody>\n",
       "</table>\n",
       "</div>"
      ],
      "text/plain": [
       "      World Equities  US Treasuries  Bond Risk Premium  Inflation Protection  \\\n",
       "beta        0.321467       0.889025            0.84284              0.049957   \n",
       "\n",
       "      Currency Protection    Noise     alpha  \n",
       "beta                  0.0 -0.01319 -0.000318  "
      ]
     },
     "execution_count": 39,
     "metadata": {},
     "output_type": "execute_result"
    }
   ],
   "source": [
    "# Regression using the best estimator\n",
    "betas = np.append(gsCV.best_estimator_.coef_, gsCV.best_estimator_.intercept_)\n",
    "betas = mla.display_betas(betas, factors_plus_noise_names)\n",
    "betas"
   ]
  },
  {
   "cell_type": "markdown",
   "metadata": {},
   "source": [
    "It seems to again give the same values as the LASSO regression.  In this particular instance, elastic net doesn't do much better than LASSO because we don't have many highly correlated variables.  If we many highly correlated factors, we would expect the Elastic Net to outperform LASSO.  For more details on the relative strenghts and weaknesses of LASSO verses Elastic Net, see the reference section."
   ]
  },
  {
   "cell_type": "markdown",
   "metadata": {},
   "source": [
    "### Best Subset Regression <a class=\"anchor\" id=\"3.3\"></a>\n",
    "\n",
    "But penalized regressions are not the only type of regression we can run.  We can also run constrained regressions!  Formally, let's define an intuitive constrained regression called \"Best Subset Regression\".  It's name is exactly what it sounds like.  It attempts to find the linear model subject to the constraint that only \"x\" factor loadings can be nonzero.  In this case, \"x\" is an integer the user defines.\n",
    "\n",
    "Formally, we set can define the best subset regression as follows:\n",
    "Let $\\textbf{z}$ be a vector of binary variables, let $ M $ be a very large number.\n",
    "For simplicity, let $ \\text{total_vars} $ be the number of variables considered and $ \\text{max_vars} $ be the number max number of variables allowed in the subset\n",
    "\n",
    "\\begin{equation*} \n",
    "    {\\hat{\\beta}}^{\\text{Best Subset}} = argmin_{\\beta}\\bigg\\{\\sum_{t=1}^{n} (y_t - X_t^T \\beta)^2 \\bigg\\}.\n",
    "\\end{equation*}\n",
    "\n",
    "\\begin{equation*} \n",
    "    \\sum_{i=1}^{\\text{max_vars}} z_i \\leq \\text{max_vars,}  \\hspace{2mm} Mz + \\beta \\geq 0 \\text{  and  } \\beta \\leq Mz \\text{  ,  } \\textbf{z } \\text{ binary}\n",
    "\\end{equation*}"
   ]
  },
  {
   "cell_type": "markdown",
   "metadata": {},
   "source": [
    "pip install cvxopt"
   ]
  },
  {
   "cell_type": "code",
   "execution_count": 41,
   "metadata": {},
   "outputs": [
    {
     "data": {
      "text/html": [
       "<div>\n",
       "<style scoped>\n",
       "    .dataframe tbody tr th:only-of-type {\n",
       "        vertical-align: middle;\n",
       "    }\n",
       "\n",
       "    .dataframe tbody tr th {\n",
       "        vertical-align: top;\n",
       "    }\n",
       "\n",
       "    .dataframe thead th {\n",
       "        text-align: right;\n",
       "    }\n",
       "</style>\n",
       "<table border=\"1\" class=\"dataframe\">\n",
       "  <thead>\n",
       "    <tr style=\"text-align: right;\">\n",
       "      <th></th>\n",
       "      <th>World Equities</th>\n",
       "      <th>US Treasuries</th>\n",
       "      <th>Bond Risk Premium</th>\n",
       "      <th>Inflation Protection</th>\n",
       "      <th>Currency Protection</th>\n",
       "      <th>alpha</th>\n",
       "    </tr>\n",
       "  </thead>\n",
       "  <tbody>\n",
       "    <tr>\n",
       "      <th>beta</th>\n",
       "      <td>0.0</td>\n",
       "      <td>1.453734</td>\n",
       "      <td>1.395798</td>\n",
       "      <td>0.0</td>\n",
       "      <td>0.0</td>\n",
       "      <td>-0.001956</td>\n",
       "    </tr>\n",
       "  </tbody>\n",
       "</table>\n",
       "</div>"
      ],
      "text/plain": [
       "      World Equities  US Treasuries  Bond Risk Premium  Inflation Protection  \\\n",
       "beta             0.0       1.453734           1.395798                   0.0   \n",
       "\n",
       "      Currency Protection     alpha  \n",
       "beta                  0.0 -0.001956  "
      ]
     },
     "execution_count": 41,
     "metadata": {},
     "output_type": "execute_result"
    }
   ],
   "source": [
    "# using max_vars = 2\n",
    "betas, alpha = mla.best_subset_regression(y, factors, max_vars=2)\n",
    "\n",
    "# Regression using the best estimator\n",
    "betas = np.append(betas, alpha)\n",
    "betas = mla.display_betas(betas, factor_names)\n",
    "betas"
   ]
  },
  {
   "cell_type": "code",
   "execution_count": 42,
   "metadata": {},
   "outputs": [
    {
     "data": {
      "text/html": [
       "<div>\n",
       "<style scoped>\n",
       "    .dataframe tbody tr th:only-of-type {\n",
       "        vertical-align: middle;\n",
       "    }\n",
       "\n",
       "    .dataframe tbody tr th {\n",
       "        vertical-align: top;\n",
       "    }\n",
       "\n",
       "    .dataframe thead th {\n",
       "        text-align: right;\n",
       "    }\n",
       "</style>\n",
       "<table border=\"1\" class=\"dataframe\">\n",
       "  <thead>\n",
       "    <tr style=\"text-align: right;\">\n",
       "      <th></th>\n",
       "      <th>World Equities</th>\n",
       "      <th>US Treasuries</th>\n",
       "      <th>Bond Risk Premium</th>\n",
       "      <th>Inflation Protection</th>\n",
       "      <th>Currency Protection</th>\n",
       "      <th>alpha</th>\n",
       "    </tr>\n",
       "  </thead>\n",
       "  <tbody>\n",
       "    <tr>\n",
       "      <th>beta</th>\n",
       "      <td>0.274697</td>\n",
       "      <td>1.186262</td>\n",
       "      <td>1.091385</td>\n",
       "      <td>0.0</td>\n",
       "      <td>0.0</td>\n",
       "      <td>-0.002295</td>\n",
       "    </tr>\n",
       "  </tbody>\n",
       "</table>\n",
       "</div>"
      ],
      "text/plain": [
       "      World Equities  US Treasuries  Bond Risk Premium  Inflation Protection  \\\n",
       "beta        0.274697       1.186262           1.091385                   0.0   \n",
       "\n",
       "      Currency Protection     alpha  \n",
       "beta                  0.0 -0.002295  "
      ]
     },
     "execution_count": 42,
     "metadata": {},
     "output_type": "execute_result"
    }
   ],
   "source": [
    "# using max_vars = 3\n",
    "betas, alpha = mla.best_subset_regression(y, factors, max_vars=3)\n",
    "\n",
    "# Regression using the best estimator\n",
    "betas = np.append(betas, alpha)\n",
    "betas = mla.display_betas(betas, factor_names)\n",
    "betas"
   ]
  },
  {
   "cell_type": "code",
   "execution_count": 43,
   "metadata": {},
   "outputs": [
    {
     "data": {
      "text/html": [
       "<div>\n",
       "<style scoped>\n",
       "    .dataframe tbody tr th:only-of-type {\n",
       "        vertical-align: middle;\n",
       "    }\n",
       "\n",
       "    .dataframe tbody tr th {\n",
       "        vertical-align: top;\n",
       "    }\n",
       "\n",
       "    .dataframe thead th {\n",
       "        text-align: right;\n",
       "    }\n",
       "</style>\n",
       "<table border=\"1\" class=\"dataframe\">\n",
       "  <thead>\n",
       "    <tr style=\"text-align: right;\">\n",
       "      <th></th>\n",
       "      <th>World Equities</th>\n",
       "      <th>US Treasuries</th>\n",
       "      <th>Bond Risk Premium</th>\n",
       "      <th>Inflation Protection</th>\n",
       "      <th>Currency Protection</th>\n",
       "      <th>Noise</th>\n",
       "      <th>alpha</th>\n",
       "    </tr>\n",
       "  </thead>\n",
       "  <tbody>\n",
       "    <tr>\n",
       "      <th>beta</th>\n",
       "      <td>0.274694</td>\n",
       "      <td>1.186268</td>\n",
       "      <td>1.09139</td>\n",
       "      <td>0.0</td>\n",
       "      <td>0.0</td>\n",
       "      <td>0.0</td>\n",
       "      <td>-0.002295</td>\n",
       "    </tr>\n",
       "  </tbody>\n",
       "</table>\n",
       "</div>"
      ],
      "text/plain": [
       "      World Equities  US Treasuries  Bond Risk Premium  Inflation Protection  \\\n",
       "beta        0.274694       1.186268            1.09139                   0.0   \n",
       "\n",
       "      Currency Protection  Noise     alpha  \n",
       "beta                  0.0    0.0 -0.002295  "
      ]
     },
     "execution_count": 43,
     "metadata": {},
     "output_type": "execute_result"
    }
   ],
   "source": [
    "# using max_vars = 3 and noisy data\n",
    "betas, alpha = mla.best_subset_regression(y, factors_plus_noise, max_vars=3)\n",
    "\n",
    "# Regression using the best estimator\n",
    "betas = np.append(betas, alpha)\n",
    "betas = mla.display_betas(betas, factors_plus_noise_names)\n",
    "betas"
   ]
  },
  {
   "cell_type": "code",
   "execution_count": null,
   "metadata": {},
   "outputs": [],
   "source": []
  }
 ],
 "metadata": {
  "kernelspec": {
   "display_name": "Python 3",
   "language": "python",
   "name": "python3"
  },
  "language_info": {
   "codemirror_mode": {
    "name": "ipython",
    "version": 3
   },
   "file_extension": ".py",
   "mimetype": "text/x-python",
   "name": "python",
   "nbconvert_exporter": "python",
   "pygments_lexer": "ipython3",
   "version": "3.7.7"
  }
 },
 "nbformat": 4,
 "nbformat_minor": 4
}
